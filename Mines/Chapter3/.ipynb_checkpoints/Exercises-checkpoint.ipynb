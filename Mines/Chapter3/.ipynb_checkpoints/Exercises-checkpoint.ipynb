{
 "cells": [
  {
   "cell_type": "code",
   "execution_count": 1,
   "metadata": {},
   "outputs": [],
   "source": [
    "import pandas as pd\n",
    "import numpy as np"
   ]
  },
  {
   "cell_type": "code",
   "execution_count": 246,
   "metadata": {},
   "outputs": [],
   "source": [
    "from sklearn.datasets import fetch_openml\n",
    "mnist = fetch_openml(\"mnist_784\", version = 1) #descargando la base de datos del repositorio de openml\n",
    "X, y = mnist[\"data\"], mnist[\"target\"]"
   ]
  },
  {
   "cell_type": "code",
   "execution_count": 247,
   "metadata": {},
   "outputs": [],
   "source": [
    "y = y.astype(np.uint8) #cambiando la variable de string a numérica"
   ]
  },
  {
   "cell_type": "code",
   "execution_count": 248,
   "metadata": {},
   "outputs": [],
   "source": [
    "X_train, y_train, X_test, y_test = X[:60000], y[:60000], X[60000:], y[60000:] #partiendo en los conjuntos de entrenamiento y de prueba"
   ]
  },
  {
   "cell_type": "markdown",
   "metadata": {},
   "source": [
    "# Ejercicio 1"
   ]
  },
  {
   "cell_type": "code",
   "execution_count": 5,
   "metadata": {},
   "outputs": [],
   "source": [
    "from sklearn.neighbors import KNeighborsClassifier\n",
    "knn_clf = KNeighborsClassifier() #creando el objeto de la clase importada"
   ]
  },
  {
   "cell_type": "code",
   "execution_count": 6,
   "metadata": {},
   "outputs": [
    {
     "data": {
      "text/plain": [
       "GridSearchCV(cv=3, estimator=KNeighborsClassifier(),\n",
       "             param_grid=[{'n_neighbors': [3, 4, 5, 6, 7],\n",
       "                          'weights': ['uniform', 'distance']}],\n",
       "             return_train_score=True, scoring='accuracy')"
      ]
     },
     "execution_count": 6,
     "metadata": {},
     "output_type": "execute_result"
    }
   ],
   "source": [
    "from sklearn.model_selection import GridSearchCV\n",
    "param_grid = [{\"n_neighbors\": [i for i in range(3,8)] , \"weights\": [\"uniform\", \"distance\"] }] #definiedo la malla para la búsqueda\n",
    "search = GridSearchCV(knn_clf, param_grid, cv = 3, scoring = \"accuracy\", return_train_score = True) #generando el constructor de la búsqueda\n",
    "search.fit(X_train, y_train) #iniciando la búsqueda ajustando con los datos y los labels del conjunto de entrenamiento"
   ]
  },
  {
   "cell_type": "code",
   "execution_count": 10,
   "metadata": {},
   "outputs": [
    {
     "data": {
      "text/plain": [
       "{'n_neighbors': 4, 'weights': 'distance'}"
      ]
     },
     "execution_count": 10,
     "metadata": {},
     "output_type": "execute_result"
    }
   ],
   "source": [
    "search.best_params_"
   ]
  },
  {
   "cell_type": "code",
   "execution_count": 14,
   "metadata": {},
   "outputs": [],
   "source": [
    "best_estimator = search.best_estimator_ #definiendo el mejor estimador"
   ]
  },
  {
   "cell_type": "code",
   "execution_count": 17,
   "metadata": {},
   "outputs": [
    {
     "name": "stdout",
     "output_type": "stream",
     "text": [
      "La exactitud del modelo a la hora de predecir sobre el conjunto de prueba es del 97.14%\n"
     ]
    }
   ],
   "source": [
    "#calculando la exactitud manualmente\n",
    "y_pred = best_estimator.predict(X_test)\n",
    "correct_count = (y_pred == y_test)\n",
    "print(f\"La exactitud del modelo a la hora de predecir sobre el conjunto de prueba es del {100*np.round(np.sum(correct_count)/len(y_pred),4)}%\")"
   ]
  },
  {
   "cell_type": "markdown",
   "metadata": {},
   "source": [
    "# Ejercicio 2"
   ]
  },
  {
   "cell_type": "code",
   "execution_count": 19,
   "metadata": {},
   "outputs": [],
   "source": [
    "import matplotlib as mpl\n",
    "import matplotlib.pyplot as plt"
   ]
  },
  {
   "cell_type": "code",
   "execution_count": 309,
   "metadata": {},
   "outputs": [],
   "source": [
    "def plot_digit(digit):\n",
    "    plt.imshow(digit, cmap = plt.cm.binary)\n",
    "    plt.axis(\"off\")"
   ]
  },
  {
   "cell_type": "code",
   "execution_count": 320,
   "metadata": {},
   "outputs": [],
   "source": [
    "def shift(image, n, pixels = 28, key = \"no\"):\n",
    "    if type(image) != np.ndarray:\n",
    "        image = image.to_numpy()\n",
    "    if image.ndim != 2:\n",
    "        image = image.reshape(pixels, pixels)\n",
    "    if key == \"right\":\n",
    "        image[:, n:] = image[:, :-n]\n",
    "        image[:, :n] = np.zeros((pixels, n), dtype = np.float)\n",
    "    elif key == \"left\":\n",
    "        image[:, :-n] = image[:, n:]\n",
    "        image[:, -n:] = np.zeros((pixels, n), dtype = np.float)\n",
    "    elif key == \"down\":\n",
    "        image[n:, :] = image[:-n, :]\n",
    "        image[:n, :] = np.zeros((n, pixels), dtype = np.float)\n",
    "    elif key == \"up\":\n",
    "        image[:-n, :] = image[n:, :]\n",
    "        image[-n:, :] = np.zeros((n, pixels), dtype = np.float)\n",
    "    return np.ravel(image)"
   ]
  },
  {
   "cell_type": "code",
   "execution_count": 314,
   "metadata": {},
   "outputs": [],
   "source": [
    "#experimento\n",
    "uno = X_train.iloc[:2].copy().to_numpy()\n",
    "unoc = uno.copy()"
   ]
  },
  {
   "cell_type": "code",
   "execution_count": 319,
   "metadata": {},
   "outputs": [
    {
     "name": "stdout",
     "output_type": "stream",
     "text": [
      " \n",
      "Here is a plot with a shift in the right direction\n",
      " \n"
     ]
    },
    {
     "data": {
      "image/png": "[encoded data removed]",
      "text/plain": [
       "<Figure size 432x288 with 4 Axes>"
      ]
     },
     "metadata": {
      "needs_background": "light"
     },
     "output_type": "display_data"
    },
    {
     "name": "stdout",
     "output_type": "stream",
     "text": [
      " \n",
      "Here is a plot with a shift in the left direction\n",
      " \n"
     ]
    },
    {
     "data": {
      "image/png": "[encoded data removed]",
      "text/plain": [
       "<Figure size 432x288 with 4 Axes>"
      ]
     },
     "metadata": {
      "needs_background": "light"
     },
     "output_type": "display_data"
    },
    {
     "name": "stdout",
     "output_type": "stream",
     "text": [
      " \n",
      "Here is a plot with a shift in the down direction\n",
      " \n"
     ]
    },
    {
     "data": {
      "image/png": "[encoded data removed]",
      "text/plain": [
       "<Figure size 432x288 with 4 Axes>"
      ]
     },
     "metadata": {
      "needs_background": "light"
     },
     "output_type": "display_data"
    },
    {
     "name": "stdout",
     "output_type": "stream",
     "text": [
      " \n",
      "Here is a plot with a shift in the up direction\n",
      " \n"
     ]
    },
    {
     "data": {
      "image/png": "[encoded data removed]",
      "text/plain": [
       "<Figure size 432x288 with 4 Axes>"
      ]
     },
     "metadata": {
      "needs_background": "light"
     },
     "output_type": "display_data"
    }
   ],
   "source": [
    "for word in [\"right\", \"left\", \"down\", \"up\"]:\n",
    "    five, zero = np.apply_along_axis(shift, 1, unoc, n = 5, key = word)\n",
    "    print(\" \", f\"Here is a plot with a shift in the {word} direction\", \" \", sep = \"\\n\")\n",
    "    plt.subplot(2, 2 ,1); plot_digit(uno[0].reshape(28, 28))\n",
    "    plt.subplot(2, 2, 2); plot_digit(uno[1].reshape(28, 28))\n",
    "    plt.subplot(2, 2 ,3); plot_digit(five)\n",
    "    plt.subplot(2, 2, 4); plot_digit(zero)\n",
    "    plt.show()\n",
    "    unoc = uno.copy()"
   ]
  },
  {
   "cell_type": "code",
   "execution_count": 356,
   "metadata": {},
   "outputs": [],
   "source": [
    "columns = X_train.columns #nombre de las columnas\n",
    "X_train_c = X_train.copy() #copia del set de entrenamiento\n",
    "counter = 1 #contador para indexar\n",
    "X_train_extended = np.vstack((X_train.to_numpy(), np.empty((60000*4, 28*28), dtype = np.float))) #creando la nueva base de datos\n",
    "y_train_extended = np.vstack((y_train, y_train, y_train, y_train, y_train)) #creando la nueva variable respuesta\n",
    "\n",
    "for word in [\"right\", \"left\", \"down\", \"up\"]:\n",
    "    mods = np.apply_along_axis(shift, 1, X_train_c, n = 1, key = word) #haciendo shift a las imágenes en dirección de word\n",
    "    X_train_extended[60000*counter:60000*(counter+1), :] = mods #añadiendo las imagenes modificadas\n",
    "    X_train_c = X_train.copy() #volviendo a copiar el set de entrenamiento ya que se modifico en la def de mods\n",
    "    counter += 1 #aumentando el counter para poder seguir indexando\n",
    "\n",
    "X_train_extended = pd.DataFrame(X_train_extended, columns = columns) #convirtiendo de np a pd\n",
    "y_train_extended = pd.Series(y_train_extended.reshape(60000*5), name = \"class\")\n",
    "\n",
    "#borrando variables innecesarias\n",
    "del columns\n",
    "del X_train_c\n",
    "del counter"
   ]
  },
  {
   "cell_type": "code",
   "execution_count": 357,
   "metadata": {},
   "outputs": [
    {
     "data": {
      "text/plain": [
       "KNeighborsClassifier(n_neighbors=4, weights='distance')"
      ]
     },
     "execution_count": 357,
     "metadata": {},
     "output_type": "execute_result"
    }
   ],
   "source": [
    "knn_clf2 = KNeighborsClassifier(**search.best_params_)\n",
    "knn_clf2.fit(X_train_extended, y_train_extended)"
   ]
  },
  {
   "cell_type": "code",
   "execution_count": 358,
   "metadata": {},
   "outputs": [
    {
     "name": "stdout",
     "output_type": "stream",
     "text": [
      "The accuracy for the new moddel fitted with the transformations is 97.63\n"
     ]
    }
   ],
   "source": [
    "y_pred_extended = knn_clf2.predict(X_test)\n",
    "amount_extended = np.sum((y_test == y_pred_extended))\n",
    "print(f\"The accuracy for the new moddel fitted with the transformations is {100*np.round(amount_extended/len(y_test),4)}\")"
   ]
  },
  {
   "cell_type": "markdown",
   "metadata": {},
   "source": [
    "# Ejercicio 3"
   ]
  }
 ],
 "metadata": {
  "kernelspec": {
   "display_name": "Python 3",
   "language": "python",
   "name": "python3"
  },
  "language_info": {
   "codemirror_mode": {
    "name": "ipython",
    "version": 3
   },
   "file_extension": ".py",
   "mimetype": "text/x-python",
   "name": "python",
   "nbconvert_exporter": "python",
   "pygments_lexer": "ipython3",
   "version": "3.9.1"
  }
 },
 "nbformat": 4,
 "nbformat_minor": 4
}
